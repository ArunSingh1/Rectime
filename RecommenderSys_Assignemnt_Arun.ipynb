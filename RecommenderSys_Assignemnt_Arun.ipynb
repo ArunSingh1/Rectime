{
 "cells": [
  {
   "cell_type": "markdown",
   "id": "0bfc2111",
   "metadata": {},
   "source": [
    "Instructions\n",
    "For this assignment, you need to benchmark the following models using RMSE, MAE and fit-time / prediction-time:\n",
    "\n",
    "User-based CF with cosine similarity.\n",
    "User-based CF with pearson correlation similarity.\n",
    "Item-based CF with cosine similarity.\n",
    "Item-based CF with pearson correlation similarity.\n",
    "SVD\n",
    "NMF\n",
    "Note :\n",
    "You should visualize your benchmarking results with a bar chart and to interepret them\n",
    "You shouldn't implement the models from scratch, you need to use their surprise implementation.\n",
    "\n",
    "Notebook :\n",
    "\n",
    "Your notebook should be leasable, well organized and commented. It should contain 3 separate parts :\n",
    "\n",
    "Data loading\n",
    "Utils\n",
    "Model benchmarking\n",
    "Submission :\n",
    "\n",
    "You need to push your code in a github repository and to send the link in the assignment tab."
   ]
  },
  {
   "cell_type": "markdown",
   "id": "29f4b311",
   "metadata": {},
   "source": [
    "### Data Loading "
   ]
  },
  {
   "cell_type": "code",
   "execution_count": 70,
   "id": "7ae9ecb7",
   "metadata": {},
   "outputs": [],
   "source": [
    "from surprise import SVD\n",
    "from surprise import Dataset\n",
    "from surprise import accuracy\n",
    "from surprise import Reader\n",
    "from surprise.model_selection import KFold\n",
    "from surprise import KNNWithMeans, KNNBaseline, KNNWithZScore\n",
    "from surprise import accuracy\n",
    "from surprise.model_selection import train_test_split\n",
    "from surprise.model_selection import cross_validate\n",
    "import matplotlib.pyplot as plt\n",
    "import numpy as np\n",
    "from surprise.prediction_algorithms.matrix_factorization import NMF\n",
    "plt.rcParams[\"figure.figsize\"] = (8, 6)"
   ]
  },
  {
   "cell_type": "code",
   "execution_count": 67,
   "id": "5b97f543",
   "metadata": {},
   "outputs": [],
   "source": [
    "filepath = '/home/arun/Documents/mlstuff/timeseries/recommender_sys/data/movie2.csv'\n",
    "reader = Reader(line_format=\"user item rating\", sep=',', rating_scale=(1, 5))\n",
    "\n",
    "def load_data(filepath, reader):\n",
    "    \n",
    "    data = Dataset.load_from_file(filepath, reader=reader)\n",
    "    \n",
    "    return data\n"
   ]
  },
  {
   "cell_type": "code",
   "execution_count": 68,
   "id": "df1f4c09",
   "metadata": {},
   "outputs": [],
   "source": [
    "data = load_data(filepath, reader)"
   ]
  },
  {
   "cell_type": "markdown",
   "id": "8f4926b0",
   "metadata": {},
   "source": [
    "### Utils "
   ]
  },
  {
   "cell_type": "markdown",
   "id": "efabda01",
   "metadata": {},
   "source": [
    "Cross-validation is primarily used in applied machine learning to estimate the skill of a machine learning model on unseen data. That is, to use a limited sample in order to estimate how the model is expected to perform in general when used to make predictions on data not used during the training of the model.May"
   ]
  },
  {
   "cell_type": "code",
   "execution_count": 62,
   "id": "aa71a5c5",
   "metadata": {},
   "outputs": [],
   "source": [
    "def helper (data, typeofalgo, distance, algo):\n",
    "    print(\"Type Of Algo- \", typeofalgo)\n",
    "    print(\"Distance- \", distance)\n",
    "    \n",
    "    #format sim_options    \n",
    "    if typeofalgo == 'userbased':\n",
    "        \n",
    "        sim_options = {\n",
    "            'name' : distance,\n",
    "            'user_based' : True\n",
    "        }\n",
    "    elif typeofalgo == 'itembased':                                      #is item based\n",
    "        sim_options = {\n",
    "            'name' : distance,\n",
    "            'user_based' : False\n",
    "        }\n",
    "    \n",
    "    \n",
    "    trainset, testset = train_test_split(data, test_size=.25)\n",
    "    \n",
    "    algo.fit(trainset)\n",
    "    predictions = algo.test(testset)\n",
    "    \n",
    "    RMSE = accuracy.rmse(predictions)\n",
    "    MAE =  accuracy.mae(predictions)\n",
    "    \n",
    "    # Run 5-fold cross-validation and print results.\n",
    "    #cross_validate(algo, data, measures=['RMSE', 'MAE'], cv=5, verbose=True)\n",
    "    \n",
    "    return RMSE, MAE\n",
    "    "
   ]
  },
  {
   "cell_type": "code",
   "execution_count": 64,
   "id": "03505c63",
   "metadata": {},
   "outputs": [],
   "source": [
    "def masterfunction(types, distance):\n",
    "\n",
    "    algo = [KNNWithMeans, KNNWithZScore, KNNBaseline, SVD,NMF]\n",
    "\n",
    "    rmse = []\n",
    "    mae = []\n",
    "    timelist = []\n",
    "\n",
    "    for algorithm_names  in algo:\n",
    "        #print(i)\n",
    "        algorithm_names =  algorithm_names()\n",
    "\n",
    "        #print(\"#User Based, Pearson#\")\n",
    "        start_time = time.time()\n",
    "        RMSE, MAE  = runof(data, types, distance, algorithm_names)\n",
    "        time_taken  = time.time() - start_time\n",
    "\n",
    "        #print(RMSE, MAE)\n",
    "        rmse.append(RMSE)\n",
    "        mae.append(MAE)\n",
    "        timelist.append(time_taken)\n",
    "\n",
    "\n",
    "    bars = ['KNNWithMeans', 'KNNWithZScore', 'KNNBaseline', 'SVD', 'NMF']    \n",
    "    y_pos = np.arange(len(bars))\n",
    "    plt.barh(y_pos, rmse)\n",
    "    plt.barh(y_pos, mae)\n",
    "\n",
    "    plt.yticks(y_pos, bars)\n",
    "    plt.legend([\"RMSE\",  \"MAE\"])\n",
    "    plt.title(distance)\n",
    "    plt.show()\n",
    "\n",
    "    x = np.arange(5)\n",
    "    plt.bar(x,timelist)\n",
    "    \n",
    "    plt.xticks(x, bars )\n",
    "    #plt.figure(figsize=(12, 8))\n",
    "    plt.show()"
   ]
  },
  {
   "cell_type": "markdown",
   "id": "809ab13d",
   "metadata": {},
   "source": [
    "### Model and Bench Marking "
   ]
  },
  {
   "cell_type": "code",
   "execution_count": 71,
   "id": "470ff8b0",
   "metadata": {},
   "outputs": [
    {
     "name": "stdout",
     "output_type": "stream",
     "text": [
      "Type Of Algo-  userbased\n",
      "Distance-  pearson\n",
      "Computing the msd similarity matrix...\n",
      "Done computing similarity matrix.\n",
      "RMSE: 0.9177\n",
      "MAE:  0.7031\n",
      "Type Of Algo-  userbased\n",
      "Distance-  pearson\n",
      "Computing the msd similarity matrix...\n",
      "Done computing similarity matrix.\n",
      "RMSE: 0.9185\n",
      "MAE:  0.6987\n",
      "Type Of Algo-  userbased\n",
      "Distance-  pearson\n",
      "Estimating biases using als...\n",
      "Computing the msd similarity matrix...\n",
      "Done computing similarity matrix.\n",
      "RMSE: 0.8856\n",
      "MAE:  0.6787\n",
      "Type Of Algo-  userbased\n",
      "Distance-  pearson\n",
      "RMSE: 0.8915\n",
      "MAE:  0.6858\n",
      "Type Of Algo-  userbased\n",
      "Distance-  pearson\n",
      "RMSE: 0.9513\n",
      "MAE:  0.7324\n"
     ]
    },
    {
     "data": {
      "image/png": "[encoded data removed]",
      "text/plain": [
       "<Figure size 576x432 with 1 Axes>"
      ]
     },
     "metadata": {
      "needs_background": "light"
     },
     "output_type": "display_data"
    },
    {
     "data": {
      "image/png": "[encoded data removed]",
      "text/plain": [
       "<Figure size 576x432 with 1 Axes>"
      ]
     },
     "metadata": {
      "needs_background": "light"
     },
     "output_type": "display_data"
    }
   ],
   "source": [
    "masterfunction('userbased', 'pearson')"
   ]
  },
  {
   "cell_type": "code",
   "execution_count": 72,
   "id": "c22e811f",
   "metadata": {},
   "outputs": [
    {
     "name": "stdout",
     "output_type": "stream",
     "text": [
      "Type Of Algo-  itembased\n",
      "Distance-  cosine\n",
      "Computing the msd similarity matrix...\n",
      "Done computing similarity matrix.\n",
      "RMSE: 0.9206\n",
      "MAE:  0.7036\n",
      "Type Of Algo-  itembased\n",
      "Distance-  cosine\n",
      "Computing the msd similarity matrix...\n",
      "Done computing similarity matrix.\n",
      "RMSE: 0.9178\n",
      "MAE:  0.6954\n",
      "Type Of Algo-  itembased\n",
      "Distance-  cosine\n",
      "Estimating biases using als...\n",
      "Computing the msd similarity matrix...\n",
      "Done computing similarity matrix.\n",
      "RMSE: 0.8997\n",
      "MAE:  0.6863\n",
      "Type Of Algo-  itembased\n",
      "Distance-  cosine\n",
      "RMSE: 0.8964\n",
      "MAE:  0.6903\n",
      "Type Of Algo-  itembased\n",
      "Distance-  cosine\n",
      "RMSE: 0.9508\n",
      "MAE:  0.7315\n"
     ]
    },
    {
     "data": {
      "image/png": "[encoded data removed]",
      "text/plain": [
       "<Figure size 576x432 with 1 Axes>"
      ]
     },
     "metadata": {
      "needs_background": "light"
     },
     "output_type": "display_data"
    },
    {
     "data": {
      "image/png": "[encoded data removed]",
      "text/plain": [
       "<Figure size 576x432 with 1 Axes>"
      ]
     },
     "metadata": {
      "needs_background": "light"
     },
     "output_type": "display_data"
    }
   ],
   "source": [
    "masterfunction('itembased', 'cosine')"
   ]
  },
  {
   "cell_type": "code",
   "execution_count": 73,
   "id": "8c065303",
   "metadata": {},
   "outputs": [
    {
     "name": "stdout",
     "output_type": "stream",
     "text": [
      "Type Of Algo-  userbased\n",
      "Distance-  cosine\n",
      "Computing the msd similarity matrix...\n",
      "Done computing similarity matrix.\n",
      "RMSE: 0.9207\n",
      "MAE:  0.7033\n",
      "Type Of Algo-  userbased\n",
      "Distance-  cosine\n",
      "Computing the msd similarity matrix...\n",
      "Done computing similarity matrix.\n",
      "RMSE: 0.9216\n",
      "MAE:  0.7025\n",
      "Type Of Algo-  userbased\n",
      "Distance-  cosine\n",
      "Estimating biases using als...\n",
      "Computing the msd similarity matrix...\n",
      "Done computing similarity matrix.\n",
      "RMSE: 0.8903\n",
      "MAE:  0.6812\n",
      "Type Of Algo-  userbased\n",
      "Distance-  cosine\n",
      "RMSE: 0.9003\n",
      "MAE:  0.6908\n",
      "Type Of Algo-  userbased\n",
      "Distance-  cosine\n",
      "RMSE: 0.9376\n",
      "MAE:  0.7213\n"
     ]
    },
    {
     "data": {
      "image/png": "[encoded data removed]",
      "text/plain": [
       "<Figure size 576x432 with 1 Axes>"
      ]
     },
     "metadata": {
      "needs_background": "light"
     },
     "output_type": "display_data"
    },
    {
     "data": {
      "image/png": "[encoded data removed]",
      "text/plain": [
       "<Figure size 576x432 with 1 Axes>"
      ]
     },
     "metadata": {
      "needs_background": "light"
     },
     "output_type": "display_data"
    }
   ],
   "source": [
    "masterfunction('userbased', 'cosine')"
   ]
  },
  {
   "cell_type": "code",
   "execution_count": 74,
   "id": "4284e93b",
   "metadata": {},
   "outputs": [
    {
     "name": "stdout",
     "output_type": "stream",
     "text": [
      "Type Of Algo-  itembased\n",
      "Distance-  pearson\n",
      "Computing the msd similarity matrix...\n",
      "Done computing similarity matrix.\n",
      "RMSE: 0.9227\n",
      "MAE:  0.7066\n",
      "Type Of Algo-  itembased\n",
      "Distance-  pearson\n",
      "Computing the msd similarity matrix...\n",
      "Done computing similarity matrix.\n",
      "RMSE: 0.9228\n",
      "MAE:  0.7009\n",
      "Type Of Algo-  itembased\n",
      "Distance-  pearson\n",
      "Estimating biases using als...\n",
      "Computing the msd similarity matrix...\n",
      "Done computing similarity matrix.\n",
      "RMSE: 0.8948\n",
      "MAE:  0.6837\n",
      "Type Of Algo-  itembased\n",
      "Distance-  pearson\n",
      "RMSE: 0.8937\n",
      "MAE:  0.6909\n",
      "Type Of Algo-  itembased\n",
      "Distance-  pearson\n",
      "RMSE: 0.9568\n",
      "MAE:  0.7365\n"
     ]
    },
    {
     "data": {
      "image/png": "[encoded data removed]",
      "text/plain": [
       "<Figure size 576x432 with 1 Axes>"
      ]
     },
     "metadata": {
      "needs_background": "light"
     },
     "output_type": "display_data"
    },
    {
     "data": {
      "image/png": "[encoded data removed]",
      "text/plain": [
       "<Figure size 576x432 with 1 Axes>"
      ]
     },
     "metadata": {
      "needs_background": "light"
     },
     "output_type": "display_data"
    }
   ],
   "source": [
    "masterfunction('itembased', 'pearson')"
   ]
  },
  {
   "cell_type": "code",
   "execution_count": null,
   "id": "1ff18722",
   "metadata": {},
   "outputs": [],
   "source": []
  }
 ],
 "metadata": {
  "kernelspec": {
   "display_name": "Python 3",
   "language": "python",
   "name": "python3"
  },
  "language_info": {
   "codemirror_mode": {
    "name": "ipython",
    "version": 3
   },
   "file_extension": ".py",
   "mimetype": "text/x-python",
   "name": "python",
   "nbconvert_exporter": "python",
   "pygments_lexer": "ipython3",
   "version": "3.8.10"
  }
 },
 "nbformat": 4,
 "nbformat_minor": 5
}
